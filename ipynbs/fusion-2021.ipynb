{
 "cells": [
  {
   "cell_type": "code",
   "execution_count": null,
   "id": "2c444adf-7ca7-451c-a623-9c12261e0e0b",
   "metadata": {},
   "outputs": [],
   "source": [
    "import os, sys\n",
    "import numpy as np\n",
    "from pathlib import Path"
   ]
  },
  {
   "cell_type": "code",
   "execution_count": null,
   "id": "70db052c-e980-4dd7-8357-bca22d788146",
   "metadata": {},
   "outputs": [],
   "source": [
    "Path_RD_LCNN = Path(os.path.abspath(os.path.join('..')))\n",
    "Path_CMs_Folder = Path_RD_LCNN / 'CMs'\n",
    "print(Path_CMs_Folder)"
   ]
  },
  {
   "cell_type": "code",
   "execution_count": null,
   "id": "4ace9291-d9ee-4a37-9457-4d9b07a5c354",
   "metadata": {},
   "outputs": [],
   "source": [
    "P_LSP4_e_21 = Path_CMs_Folder / 'ASVspoof2021-PA-scrs-eval-Log-Spec1724.txt' # Log-Spec1724\n",
    "P___AA_e_21 = Path_CMs_Folder / 'ASVspoof2021-PA-scrs-eval-AA.txt'  #  AA\n",
    "P___MA_e_21 = Path_CMs_Folder / 'ASVspoof2021-PA-scrs-eval-MA.txt'  #  MA\n",
    "P__CQA_e_21 = Path_CMs_Folder / 'ASVspoof2021-PA-scrs-eval-CQA.txt' # CQA\n",
    "\n",
    "P_NTAC_e_21 = Path_CMs_Folder / 'ASVspoof2021-PA-scrs-eval-TAC-2025.txt' # NTAC, TAC 2025 revisited\n",
    "P_ATAC_e_21 = Path_CMs_Folder / 'ASVspoof2021-PA-scrs-eval-ATAC.txt' # ATAC, TAC via  AA\n",
    "P_MTAC_e_21 = Path_CMs_Folder / 'ASVspoof2021-PA-scrs-eval-MTAC.txt' # MTAC, TAC via  MA\n",
    "P_QTAC_e_21 = Path_CMs_Folder / 'ASVspoof2021-PA-scrs-eval-QTAC.txt' # QTAC, TAC via CQA"
   ]
  },
  {
   "cell_type": "code",
   "execution_count": null,
   "id": "e753dc25",
   "metadata": {},
   "outputs": [],
   "source": [
    "ndarray___MA = np.genfromtxt(P___MA_e_21, dtype=str)\n",
    "ndarray___MA.shape"
   ]
  },
  {
   "cell_type": "code",
   "execution_count": null,
   "id": "42428a98-9dd8-4917-994d-74c99d3df790",
   "metadata": {},
   "outputs": [],
   "source": [
    "ndarray___MA[:3]"
   ]
  },
  {
   "cell_type": "code",
   "execution_count": null,
   "id": "5a7f5e9f-788e-40a0-9f18-b04872c25269",
   "metadata": {},
   "outputs": [],
   "source": [
    "ndarray_QTAC = np.genfromtxt(P_QTAC_e_21, dtype=str)\n",
    "float(ndarray_QTAC[0][1])"
   ]
  },
  {
   "cell_type": "code",
   "execution_count": null,
   "id": "ba3525cc",
   "metadata": {},
   "outputs": [],
   "source": [
    "with open('ASVspoof2021-PA-scrs-eval-fusion-MA+QTAC.txt', 'w') as f:\n",
    "    for i in range(len(ndarray___MA)):\n",
    "        scr___MA = float(ndarray___MA[i][1])\n",
    "        scr_QTAC = float(ndarray_QTAC[i][1])\n",
    "        _ = f.write(f'{ndarray___MA[i][0]} {scr___MA + scr_QTAC}\\n')"
   ]
  },
  {
   "cell_type": "code",
   "execution_count": null,
   "id": "1966c395-578f-46b5-85ea-87fb2363c631",
   "metadata": {},
   "outputs": [],
   "source": []
  }
 ],
 "metadata": {
  "kernelspec": {
   "display_name": "Python 3 (ipykernel)",
   "language": "python",
   "name": "python3"
  },
  "language_info": {
   "codemirror_mode": {
    "name": "ipython",
    "version": 3
   },
   "file_extension": ".py",
   "mimetype": "text/x-python",
   "name": "python",
   "nbconvert_exporter": "python",
   "pygments_lexer": "ipython3",
   "version": "3.12.9"
  }
 },
 "nbformat": 4,
 "nbformat_minor": 5
}
