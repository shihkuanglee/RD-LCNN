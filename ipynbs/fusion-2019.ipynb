{
 "cells": [
  {
   "cell_type": "code",
   "execution_count": null,
   "metadata": {},
   "outputs": [],
   "source": [
    "import os, sys\n",
    "from pathlib import Path\n",
    "import numpy as np\n",
    "\n",
    "Path_RD_LCNN = Path(os.path.abspath(os.path.join('..')))\n",
    "sys.path.append(str(Path_RD_LCNN))\n",
    "from em.em_2019 import get_eer, get_tDCF"
   ]
  },
  {
   "cell_type": "code",
   "execution_count": null,
   "metadata": {},
   "outputs": [],
   "source": [
    "def dict_cm_protocols_ASVspoofing_2019(path_cm_protocols):\n",
    "    ndarray = np.genfromtxt(path_cm_protocols, dtype=str)\n",
    "    list_filenames = list()\n",
    "    list_______cms = list()\n",
    "    for line in ndarray:\n",
    "        list_filenames.append(str(line[1]))\n",
    "        list_______cms.append(str(line[4]))\n",
    "    dict__cms = dict(zip(list_filenames, list_______cms))\n",
    "    list_dict__cms = list(dict__cms)\n",
    "    \n",
    "    list_set__cms = list(set(list_______cms))\n",
    "    list_set__cms.sort()\n",
    "    assert list_set__cms == ['bonafide', 'spoof']\n",
    "    \n",
    "    list_filenames = list()\n",
    "    list_______cms = list()\n",
    "    for key in list_dict__cms:\n",
    "        list_filenames.append(key)\n",
    "        if dict__cms[key] == 'bonafide':\n",
    "            list_______cms.append('bonafide')\n",
    "        else :\n",
    "            list_______cms.append('spoof')\n",
    "    return  list_______cms"
   ]
  },
  {
   "cell_type": "code",
   "execution_count": null,
   "metadata": {},
   "outputs": [],
   "source": [
    "def get_tDCF_n_EER(asv_data_val, cmky_val, scrs_val):\n",
    "    bona__cm_val = scrs_val[cmky_val == 'bonafide']\n",
    "    spoof_cm_val = scrs_val[cmky_val == 'spoof']\n",
    "    eer___cm_val = get_eer(bona__cm_val, spoof_cm_val)[0] * 100\n",
    "    min_tDCF_val = get_tDCF(asv_data_val, bona__cm_val, spoof_cm_val)\n",
    "    return min_tDCF_val, eer___cm_val"
   ]
  },
  {
   "cell_type": "code",
   "execution_count": null,
   "metadata": {},
   "outputs": [],
   "source": [
    "def p_result(asv_data__dev, asv_data_eval, cmky__dev, cmky_eval, scrs__dev, scrs_eval, name):\n",
    "    min_tDCF__dev, eer___cm__dev = get_tDCF_n_EER(asv_data__dev, cmky__dev, scrs__dev)\n",
    "    min_tDCF_eval, eer___cm_eval = get_tDCF_n_EER(asv_data_eval, cmky_eval, scrs_eval)\n",
    "    str_min_tDCF__dev = f'{\"0\":<7s}' if min_tDCF__dev == 0 else f'{min_tDCF__dev:<7.5f}'\n",
    "    str_min_tDCF_eval = f'{\"0\":<7s}' if min_tDCF_eval == 0 else f'{min_tDCF_eval:<7.5f}'\n",
    "    str_eer___cm__dev = f'{\"0\":<6s}' if eer___cm__dev == 0 else f'{eer___cm__dev:<6.4f}'\n",
    "    str_eer___cm_eval = f'{\"0\":<6s}' if eer___cm_eval == 0 else f'{eer___cm_eval:<6.4f}'\n",
    "    print(f'{name} & {str_min_tDCF__dev} & {str_eer___cm__dev} & {str_min_tDCF_eval} & {str_eer___cm_eval} \\\\\\\\')"
   ]
  },
  {
   "cell_type": "markdown",
   "metadata": {},
   "source": [
    "---"
   ]
  },
  {
   "cell_type": "code",
   "execution_count": null,
   "metadata": {},
   "outputs": [],
   "source": [
    "LAPA = 'PA'\n",
    "Path_cm_protocols___dev = Path_RD_LCNN.parent.parent / 'ASVspoof2019' / f'{LAPA}' / f'ASVspoof2019_{LAPA}_cm_protocols' / f'ASVspoof2019.{LAPA}.cm.dev.trl.txt'\n",
    "Path_cm_protocols__eval = Path_RD_LCNN.parent.parent / 'ASVspoof2019' / f'{LAPA}' / f'ASVspoof2019_{LAPA}_cm_protocols' / f'ASVspoof2019.{LAPA}.cm.eval.trl.txt'\n",
    "dict_cm__dev = dict_cm_protocols_ASVspoofing_2019(Path_cm_protocols___dev)\n",
    "dict_cm_eval = dict_cm_protocols_ASVspoofing_2019(Path_cm_protocols__eval)\n",
    "cmky__dev = np.array(dict_cm__dev)\n",
    "cmky_eval = np.array(dict_cm_eval)\n",
    "\n",
    "Path_asv_scores__dev = Path_RD_LCNN.parent.parent / 'ASVspoof2019' / f'{LAPA}' / f'ASVspoof2019_{LAPA}_asv_scores' / f'ASVspoof2019.{LAPA}.asv.dev.gi.trl.scores.txt'\n",
    "Path_asv_scores_eval = Path_RD_LCNN.parent.parent / 'ASVspoof2019' / f'{LAPA}' / f'ASVspoof2019_{LAPA}_asv_scores' / f'ASVspoof2019.{LAPA}.asv.eval.gi.trl.scores.txt'\n",
    "asv_data__dev = np.genfromtxt(Path_asv_scores__dev, dtype=str)\n",
    "asv_data_eval = np.genfromtxt(Path_asv_scores_eval, dtype=str)\n",
    "ad__dev = asv_data__dev\n",
    "ad_eval = asv_data_eval"
   ]
  },
  {
   "cell_type": "code",
   "execution_count": null,
   "metadata": {},
   "outputs": [],
   "source": [
    "Path_CMs_Folder = Path_RD_LCNN / 'CMs'\n",
    "\n",
    "# CQT\n",
    "S_CQT_d  = np.load(f'{Path_CMs_Folder}/ASVspoof2019-PA-scrs-dev-CQT.npy')\n",
    "S_CQT_e  = np.load(f'{Path_CMs_Folder}/ASVspoof2019-PA-scrs-eval-CQT.npy')\n",
    "# LFCC\n",
    "S_LFCC_d = np.load(f'{Path_CMs_Folder}/ASVspoof2019-PA-scrs-dev-LFCC.npy')\n",
    "S_LFCC_e = np.load(f'{Path_CMs_Folder}/ASVspoof2019-PA-scrs-eval-LFCC.npy')\n",
    "# DCT\n",
    "S_DCT_d  = np.load(f'{Path_CMs_Folder}/ASVspoof2019-PA-scrs-dev-DCT.npy')\n",
    "S_DCT_e  = np.load(f'{Path_CMs_Folder}/ASVspoof2019-PA-scrs-eval-DCT.npy')\n",
    "# Spec\n",
    "S_Spec_d = np.load(f'{Path_CMs_Folder}/ASVspoof2019-PA-scrs-dev-Spec.npy')\n",
    "S_Spec_e = np.load(f'{Path_CMs_Folder}/ASVspoof2019-PA-scrs-eval-Spec.npy')\n",
    "# Ceps\n",
    "S_Ceps_d = np.load(f'{Path_CMs_Folder}/ASVspoof2019-PA-scrs-dev-Ceps.npy')\n",
    "S_Ceps_e = np.load(f'{Path_CMs_Folder}/ASVspoof2019-PA-scrs-eval-Ceps.npy')\n",
    "# Spec1724\n",
    "S_S1724_d = np.load(f'{Path_CMs_Folder}/ASVspoof2019-PA-scrs-dev-Spec1724.npy')\n",
    "S_S1724_e = np.load(f'{Path_CMs_Folder}/ASVspoof2019-PA-scrs-eval-Spec1724.npy')\n",
    "# Ceps1724\n",
    "S_C1724_d = np.load(f'{Path_CMs_Folder}/ASVspoof2019-PA-scrs-dev-Ceps1724.npy')\n",
    "S_C1724_e = np.load(f'{Path_CMs_Folder}/ASVspoof2019-PA-scrs-eval-Ceps1724.npy')\n",
    "# TAC\n",
    "S_TAC_d   = np.load(f'{Path_CMs_Folder}/ASVspoof2019-PA-scrs-dev-TAC.npy')\n",
    "S_TAC_e   = np.load(f'{Path_CMs_Folder}/ASVspoof2019-PA-scrs-eval-TAC.npy')"
   ]
  },
  {
   "cell_type": "code",
   "execution_count": null,
   "metadata": {},
   "outputs": [],
   "source": [
    "# LSpec724, Log-Spec1724\n",
    "S_LS724_d = np.load(f'{Path_CMs_Folder}/ASVspoof2019-PA-scrs-dev-Log-Spec1724.npy')\n",
    "S_LS724_e = np.load(f'{Path_CMs_Folder}/ASVspoof2019-PA-scrs-eval-Log-Spec1724.npy')\n",
    "# AA\n",
    "S_AA_d = np.load(f'{Path_CMs_Folder}/ASVspoof2019-PA-scrs-dev-AA.npy')\n",
    "S_AA_e = np.load(f'{Path_CMs_Folder}/ASVspoof2019-PA-scrs-eval-AA.npy')\n",
    "# MA\n",
    "S_MA_d = np.load(f'{Path_CMs_Folder}/ASVspoof2019-PA-scrs-dev-MA.npy')\n",
    "S_MA_e = np.load(f'{Path_CMs_Folder}/ASVspoof2019-PA-scrs-eval-MA.npy')\n",
    "# CQA\n",
    "S_CQA_d = np.load(f'{Path_CMs_Folder}/ASVspoof2019-PA-scrs-dev-CQA.npy')\n",
    "S_CQA_e = np.load(f'{Path_CMs_Folder}/ASVspoof2019-PA-scrs-eval-CQA.npy')\n",
    "\n",
    "# NTAC, TAC 2025 revisited\n",
    "S_NTAC_d = np.load(f'{Path_CMs_Folder}/ASVspoof2019-PA-scrs-dev-TAC-2025.npy')\n",
    "S_NTAC_e = np.load(f'{Path_CMs_Folder}/ASVspoof2019-PA-scrs-eval-TAC-2025.npy')\n",
    "# ATAC, TAC via AA\n",
    "S_ATAC_d = np.load(f'{Path_CMs_Folder}/ASVspoof2019-PA-scrs-dev-ATAC.npy')\n",
    "S_ATAC_e = np.load(f'{Path_CMs_Folder}/ASVspoof2019-PA-scrs-eval-ATAC.npy')\n",
    "# MTAC, TAC via MA\n",
    "S_MTAC_d = np.load(f'{Path_CMs_Folder}/ASVspoof2019-PA-scrs-dev-MTAC.npy')\n",
    "S_MTAC_e = np.load(f'{Path_CMs_Folder}/ASVspoof2019-PA-scrs-eval-MTAC.npy')\n",
    "# QTAC, TAC via CQA\n",
    "S_QTAC_d = np.load(f'{Path_CMs_Folder}/ASVspoof2019-PA-scrs-dev-QTAC.npy')\n",
    "S_QTAC_e = np.load(f'{Path_CMs_Folder}/ASVspoof2019-PA-scrs-eval-QTAC.npy')"
   ]
  },
  {
   "cell_type": "markdown",
   "metadata": {},
   "source": [
    "---"
   ]
  },
  {
   "cell_type": "code",
   "execution_count": null,
   "metadata": {},
   "outputs": [],
   "source": [
    "print(f'                      Table 1           ')\n",
    "print(f'               Dev               Eval   ')\n",
    "print(f'          tDCF     EER      tDCF     EER')\n",
    "p_result(ad__dev, ad_eval, cmky__dev, cmky_eval,   S_CQT_d,   S_CQT_e, '     CQT')\n",
    "p_result(ad__dev, ad_eval, cmky__dev, cmky_eval,  S_LFCC_d,  S_LFCC_e, '    LFCC')\n",
    "p_result(ad__dev, ad_eval, cmky__dev, cmky_eval,   S_DCT_d,   S_DCT_e, '     DCT')\n",
    "p_result(ad__dev, ad_eval, cmky__dev, cmky_eval, S_S1724_d, S_S1724_e, 'Spec1724')\n",
    "p_result(ad__dev, ad_eval, cmky__dev, cmky_eval, S_C1724_d, S_C1724_e, 'Ceps1724')\n",
    "p_result(ad__dev, ad_eval, cmky__dev, cmky_eval,  S_Spec_d,  S_Spec_e, '    Spec')\n",
    "p_result(ad__dev, ad_eval, cmky__dev, cmky_eval,  S_Ceps_d,  S_Ceps_e, '    Ceps')\n",
    "p_result(ad__dev, ad_eval, cmky__dev, cmky_eval,   S_TAC_d,   S_TAC_e, '     TAC')\n",
    "print('\\\\cmidrule(l){2-5}')\n",
    "p_result(ad__dev, ad_eval, cmky__dev, cmky_eval, S_LS724_d, S_LS724_e, 'LSpec724')\n",
    "p_result(ad__dev, ad_eval, cmky__dev, cmky_eval,   S_AA_d,     S_AA_e, '      AA')\n",
    "p_result(ad__dev, ad_eval, cmky__dev, cmky_eval,   S_MA_d,     S_MA_e, '      MA')\n",
    "p_result(ad__dev, ad_eval, cmky__dev, cmky_eval,  S_CQA_d,    S_CQA_e, '     CQA')\n",
    "print('\\\\cmidrule(l){2-5}')\n",
    "p_result(ad__dev, ad_eval, cmky__dev, cmky_eval,  S_NTAC_d,  S_NTAC_e, '    NTAC')\n",
    "p_result(ad__dev, ad_eval, cmky__dev, cmky_eval,  S_ATAC_d,  S_ATAC_e, '    ATAC')\n",
    "p_result(ad__dev, ad_eval, cmky__dev, cmky_eval,  S_MTAC_d,  S_MTAC_e, '    MTAC')\n",
    "p_result(ad__dev, ad_eval, cmky__dev, cmky_eval,  S_QTAC_d,  S_QTAC_e, '    QTAC')"
   ]
  },
  {
   "cell_type": "markdown",
   "metadata": {},
   "source": [
    "---"
   ]
  },
  {
   "cell_type": "code",
   "execution_count": null,
   "metadata": {
    "tags": []
   },
   "outputs": [],
   "source": [
    "S_dev=                          S_S1724_d+S_Ceps_d; S_eval=         S_LFCC_e+        S_S1724_e+S_Ceps_e; p_result(ad__dev, ad_eval, cmky__dev, cmky_eval, S_dev, S_eval, '              Spec1724+Ceps')\n",
    "S_dev= S_TAC_d+                 S_S1724_d+S_Ceps_d; S_eval= S_TAC_e+S_LFCC_e+        S_S1724_e+S_Ceps_e; p_result(ad__dev, ad_eval, cmky__dev, cmky_eval, S_dev, S_eval, ' TAC+         Spec1724+Ceps')\n",
    "S_dev=S_NTAC_d+                 S_S1724_d+S_Ceps_d; S_eval=S_NTAC_e+S_LFCC_e+        S_S1724_e+S_Ceps_e; p_result(ad__dev, ad_eval, cmky__dev, cmky_eval, S_dev, S_eval, 'NTAC+         Spec1724+Ceps')\n",
    "S_dev=S_ATAC_d+                 S_S1724_d+S_Ceps_d; S_eval=S_ATAC_e+S_LFCC_e+        S_S1724_e+S_Ceps_e; p_result(ad__dev, ad_eval, cmky__dev, cmky_eval, S_dev, S_eval, 'ATAC+         Spec1724+Ceps')\n",
    "S_dev=         S_LFCC_d+        S_S1724_d+S_Ceps_d; S_eval=         S_LFCC_e+        S_S1724_e+S_Ceps_e; p_result(ad__dev, ad_eval, cmky__dev, cmky_eval, S_dev, S_eval, '     LFCC+    Spec1724+Ceps')\n",
    "S_dev= S_TAC_d+S_LFCC_d+        S_S1724_d+S_Ceps_d; S_eval= S_TAC_e+S_LFCC_e+        S_S1724_e+S_Ceps_e; p_result(ad__dev, ad_eval, cmky__dev, cmky_eval, S_dev, S_eval, ' TAC+LFCC+    Spec1724+Ceps')\n",
    "S_dev=S_NTAC_d+S_LFCC_d+        S_S1724_d+S_Ceps_d; S_eval=S_NTAC_e+S_LFCC_e+        S_S1724_e+S_Ceps_e; p_result(ad__dev, ad_eval, cmky__dev, cmky_eval, S_dev, S_eval, 'NTAC+LFCC+    Spec1724+Ceps')\n",
    "S_dev=S_ATAC_d+S_LFCC_d+        S_S1724_d+S_Ceps_d; S_eval=S_ATAC_e+S_LFCC_e+        S_S1724_e+S_Ceps_e; p_result(ad__dev, ad_eval, cmky__dev, cmky_eval, S_dev, S_eval, 'ATAC+LFCC+    Spec1724+Ceps')\n",
    "S_dev=         S_LFCC_d+S_DCT_d+S_S1724_d+S_Ceps_d; S_eval=         S_LFCC_e+S_DCT_e+S_S1724_e+S_Ceps_e; p_result(ad__dev, ad_eval, cmky__dev, cmky_eval, S_dev, S_eval, '     LFCC+DCT+Spec1724+Ceps')\n",
    "S_dev= S_TAC_d+S_LFCC_d+S_DCT_d+S_S1724_d+S_Ceps_d; S_eval= S_TAC_e+S_LFCC_e+S_DCT_e+S_S1724_e+S_Ceps_e; p_result(ad__dev, ad_eval, cmky__dev, cmky_eval, S_dev, S_eval, ' TAC+LFCC+DCT+Spec1724+Ceps')\n",
    "S_dev=S_NTAC_d+S_LFCC_d+S_DCT_d+S_S1724_d+S_Ceps_d; S_eval=S_NTAC_e+S_LFCC_e+S_DCT_e+S_S1724_e+S_Ceps_e; p_result(ad__dev, ad_eval, cmky__dev, cmky_eval, S_dev, S_eval, 'NTAC+LFCC+DCT+Spec1724+Ceps')\n",
    "S_dev=S_ATAC_d+S_LFCC_d+S_DCT_d+S_S1724_d+S_Ceps_d; S_eval=S_ATAC_e+S_LFCC_e+S_DCT_e+S_S1724_e+S_Ceps_e; p_result(ad__dev, ad_eval, cmky__dev, cmky_eval, S_dev, S_eval, 'ATAC+LFCC+DCT+Spec1724+Ceps')"
   ]
  },
  {
   "cell_type": "code",
   "execution_count": null,
   "metadata": {
    "tags": []
   },
   "outputs": [],
   "source": [
    "S_dev=                          S_LS724_d+S_Ceps_d; S_eval=         S_LFCC_e+        S_LS724_e+S_Ceps_e; p_result(ad__dev, ad_eval, cmky__dev, cmky_eval, S_dev, S_eval, '              LSpec724+Ceps')\n",
    "S_dev= S_TAC_d+                 S_LS724_d+S_Ceps_d; S_eval= S_TAC_e+S_LFCC_e+        S_LS724_e+S_Ceps_e; p_result(ad__dev, ad_eval, cmky__dev, cmky_eval, S_dev, S_eval, ' TAC+         LSpec724+Ceps')\n",
    "S_dev=S_NTAC_d+                 S_LS724_d+S_Ceps_d; S_eval=S_NTAC_e+S_LFCC_e+        S_LS724_e+S_Ceps_e; p_result(ad__dev, ad_eval, cmky__dev, cmky_eval, S_dev, S_eval, 'NTAC+         LSpec724+Ceps')\n",
    "S_dev=S_ATAC_d+                 S_LS724_d+S_Ceps_d; S_eval=S_ATAC_e+S_LFCC_e+        S_LS724_e+S_Ceps_e; p_result(ad__dev, ad_eval, cmky__dev, cmky_eval, S_dev, S_eval, 'ATAC+         LSpec724+Ceps')\n",
    "S_dev=         S_LFCC_d+        S_LS724_d+S_Ceps_d; S_eval=         S_LFCC_e+        S_LS724_e+S_Ceps_e; p_result(ad__dev, ad_eval, cmky__dev, cmky_eval, S_dev, S_eval, '     LFCC+    LSpec724+Ceps')\n",
    "S_dev= S_TAC_d+S_LFCC_d+        S_LS724_d+S_Ceps_d; S_eval= S_TAC_e+S_LFCC_e+        S_LS724_e+S_Ceps_e; p_result(ad__dev, ad_eval, cmky__dev, cmky_eval, S_dev, S_eval, ' TAC+LFCC+    LSpec724+Ceps')\n",
    "S_dev=S_NTAC_d+S_LFCC_d+        S_LS724_d+S_Ceps_d; S_eval=S_NTAC_e+S_LFCC_e+        S_LS724_e+S_Ceps_e; p_result(ad__dev, ad_eval, cmky__dev, cmky_eval, S_dev, S_eval, 'NTAC+LFCC+    LSpec724+Ceps')\n",
    "S_dev=S_ATAC_d+S_LFCC_d+        S_LS724_d+S_Ceps_d; S_eval=S_ATAC_e+S_LFCC_e+        S_LS724_e+S_Ceps_e; p_result(ad__dev, ad_eval, cmky__dev, cmky_eval, S_dev, S_eval, 'ATAC+LFCC+    LSpec724+Ceps')\n",
    "S_dev=         S_LFCC_d+S_DCT_d+S_LS724_d+S_Ceps_d; S_eval=         S_LFCC_e+S_DCT_e+S_LS724_e+S_Ceps_e; p_result(ad__dev, ad_eval, cmky__dev, cmky_eval, S_dev, S_eval, '     LFCC+DCT+LSpec724+Ceps')\n",
    "S_dev= S_TAC_d+S_LFCC_d+S_DCT_d+S_LS724_d+S_Ceps_d; S_eval= S_TAC_e+S_LFCC_e+S_DCT_e+S_LS724_e+S_Ceps_e; p_result(ad__dev, ad_eval, cmky__dev, cmky_eval, S_dev, S_eval, ' TAC+LFCC+DCT+LSpec724+Ceps')\n",
    "S_dev=S_NTAC_d+S_LFCC_d+S_DCT_d+S_LS724_d+S_Ceps_d; S_eval=S_NTAC_e+S_LFCC_e+S_DCT_e+S_LS724_e+S_Ceps_e; p_result(ad__dev, ad_eval, cmky__dev, cmky_eval, S_dev, S_eval, 'NTAC+LFCC+DCT+LSpec724+Ceps')\n",
    "S_dev=S_ATAC_d+S_LFCC_d+S_DCT_d+S_LS724_d+S_Ceps_d; S_eval=S_ATAC_e+S_LFCC_e+S_DCT_e+S_LS724_e+S_Ceps_e; p_result(ad__dev, ad_eval, cmky__dev, cmky_eval, S_dev, S_eval, 'ATAC+LFCC+DCT+LSpec724+Ceps')"
   ]
  },
  {
   "cell_type": "markdown",
   "metadata": {},
   "source": [
    "---"
   ]
  },
  {
   "cell_type": "code",
   "execution_count": null,
   "metadata": {
    "tags": []
   },
   "outputs": [],
   "source": [
    "S_dev=                          S_AA_d+S_Ceps_d; S_eval=         S_LFCC_e+        S_AA_e+S_Ceps_e; p_result(ad__dev, ad_eval, cmky__dev, cmky_eval, S_dev, S_eval, '              AA+Ceps')\n",
    "S_dev= S_TAC_d+                 S_AA_d+S_Ceps_d; S_eval= S_TAC_e+S_LFCC_e+        S_AA_e+S_Ceps_e; p_result(ad__dev, ad_eval, cmky__dev, cmky_eval, S_dev, S_eval, ' TAC+         AA+Ceps')\n",
    "S_dev=S_NTAC_d+                 S_AA_d+S_Ceps_d; S_eval=S_NTAC_e+S_LFCC_e+        S_AA_e+S_Ceps_e; p_result(ad__dev, ad_eval, cmky__dev, cmky_eval, S_dev, S_eval, 'NTAC+         AA+Ceps')\n",
    "S_dev=S_ATAC_d+                 S_AA_d+S_Ceps_d; S_eval=S_ATAC_e+S_LFCC_e+        S_AA_e+S_Ceps_e; p_result(ad__dev, ad_eval, cmky__dev, cmky_eval, S_dev, S_eval, 'ATAC+         AA+Ceps')\n",
    "S_dev=         S_LFCC_d+        S_AA_d+S_Ceps_d; S_eval=         S_LFCC_e+        S_AA_e+S_Ceps_e; p_result(ad__dev, ad_eval, cmky__dev, cmky_eval, S_dev, S_eval, '     LFCC+    AA+Ceps')\n",
    "S_dev= S_TAC_d+S_LFCC_d+        S_AA_d+S_Ceps_d; S_eval= S_TAC_e+S_LFCC_e+        S_AA_e+S_Ceps_e; p_result(ad__dev, ad_eval, cmky__dev, cmky_eval, S_dev, S_eval, ' TAC+LFCC+    AA+Ceps')\n",
    "S_dev=S_NTAC_d+S_LFCC_d+        S_AA_d+S_Ceps_d; S_eval=S_NTAC_e+S_LFCC_e+        S_AA_e+S_Ceps_e; p_result(ad__dev, ad_eval, cmky__dev, cmky_eval, S_dev, S_eval, 'NTAC+LFCC+    AA+Ceps')\n",
    "S_dev=S_ATAC_d+S_LFCC_d+        S_AA_d+S_Ceps_d; S_eval=S_ATAC_e+S_LFCC_e+        S_AA_e+S_Ceps_e; p_result(ad__dev, ad_eval, cmky__dev, cmky_eval, S_dev, S_eval, 'ATAC+LFCC+    AA+Ceps')\n",
    "S_dev=         S_LFCC_d+S_DCT_d+S_AA_d+S_Ceps_d; S_eval=         S_LFCC_e+S_DCT_e+S_AA_e+S_Ceps_e; p_result(ad__dev, ad_eval, cmky__dev, cmky_eval, S_dev, S_eval, '     LFCC+DCT+AA+Ceps')\n",
    "S_dev= S_TAC_d+S_LFCC_d+S_DCT_d+S_AA_d+S_Ceps_d; S_eval= S_TAC_e+S_LFCC_e+S_DCT_e+S_AA_e+S_Ceps_e; p_result(ad__dev, ad_eval, cmky__dev, cmky_eval, S_dev, S_eval, ' TAC+LFCC+DCT+AA+Ceps')\n",
    "S_dev=S_NTAC_d+S_LFCC_d+S_DCT_d+S_AA_d+S_Ceps_d; S_eval=S_NTAC_e+S_LFCC_e+S_DCT_e+S_AA_e+S_Ceps_e; p_result(ad__dev, ad_eval, cmky__dev, cmky_eval, S_dev, S_eval, 'NTAC+LFCC+DCT+AA+Ceps')\n",
    "S_dev=S_ATAC_d+S_LFCC_d+S_DCT_d+S_AA_d+S_Ceps_d; S_eval=S_ATAC_e+S_LFCC_e+S_DCT_e+S_AA_e+S_Ceps_e; p_result(ad__dev, ad_eval, cmky__dev, cmky_eval, S_dev, S_eval, 'ATAC+LFCC+DCT+AA+Ceps')"
   ]
  },
  {
   "cell_type": "code",
   "execution_count": null,
   "metadata": {
    "tags": []
   },
   "outputs": [],
   "source": [
    "S_dev=                          S_MA_d+S_Ceps_d; S_eval=         S_LFCC_e+        S_MA_e+S_Ceps_e; p_result(ad__dev, ad_eval, cmky__dev, cmky_eval, S_dev, S_eval, '              MA+Ceps')\n",
    "S_dev= S_TAC_d+                 S_MA_d+S_Ceps_d; S_eval= S_TAC_e+S_LFCC_e+        S_MA_e+S_Ceps_e; p_result(ad__dev, ad_eval, cmky__dev, cmky_eval, S_dev, S_eval, ' TAC+         MA+Ceps')\n",
    "S_dev=S_NTAC_d+                 S_MA_d+S_Ceps_d; S_eval=S_NTAC_e+S_LFCC_e+        S_MA_e+S_Ceps_e; p_result(ad__dev, ad_eval, cmky__dev, cmky_eval, S_dev, S_eval, 'NTAC+         MA+Ceps')\n",
    "S_dev=S_ATAC_d+                 S_MA_d+S_Ceps_d; S_eval=S_ATAC_e+S_LFCC_e+        S_MA_e+S_Ceps_e; p_result(ad__dev, ad_eval, cmky__dev, cmky_eval, S_dev, S_eval, 'ATAC+         MA+Ceps')\n",
    "S_dev=         S_LFCC_d+        S_MA_d+S_Ceps_d; S_eval=         S_LFCC_e+        S_MA_e+S_Ceps_e; p_result(ad__dev, ad_eval, cmky__dev, cmky_eval, S_dev, S_eval, '     LFCC+    MA+Ceps')\n",
    "S_dev= S_TAC_d+S_LFCC_d+        S_MA_d+S_Ceps_d; S_eval= S_TAC_e+S_LFCC_e+        S_MA_e+S_Ceps_e; p_result(ad__dev, ad_eval, cmky__dev, cmky_eval, S_dev, S_eval, ' TAC+LFCC+    MA+Ceps')\n",
    "S_dev=S_NTAC_d+S_LFCC_d+        S_MA_d+S_Ceps_d; S_eval=S_NTAC_e+S_LFCC_e+        S_MA_e+S_Ceps_e; p_result(ad__dev, ad_eval, cmky__dev, cmky_eval, S_dev, S_eval, 'NTAC+LFCC+    MA+Ceps')\n",
    "S_dev=S_ATAC_d+S_LFCC_d+        S_MA_d+S_Ceps_d; S_eval=S_ATAC_e+S_LFCC_e+        S_MA_e+S_Ceps_e; p_result(ad__dev, ad_eval, cmky__dev, cmky_eval, S_dev, S_eval, 'ATAC+LFCC+    MA+Ceps')\n",
    "S_dev=         S_LFCC_d+S_DCT_d+S_MA_d+S_Ceps_d; S_eval=         S_LFCC_e+S_DCT_e+S_MA_e+S_Ceps_e; p_result(ad__dev, ad_eval, cmky__dev, cmky_eval, S_dev, S_eval, '     LFCC+DCT+MA+Ceps')\n",
    "S_dev= S_TAC_d+S_LFCC_d+S_DCT_d+S_MA_d+S_Ceps_d; S_eval= S_TAC_e+S_LFCC_e+S_DCT_e+S_MA_e+S_Ceps_e; p_result(ad__dev, ad_eval, cmky__dev, cmky_eval, S_dev, S_eval, ' TAC+LFCC+DCT+MA+Ceps')\n",
    "S_dev=S_NTAC_d+S_LFCC_d+S_DCT_d+S_MA_d+S_Ceps_d; S_eval=S_NTAC_e+S_LFCC_e+S_DCT_e+S_MA_e+S_Ceps_e; p_result(ad__dev, ad_eval, cmky__dev, cmky_eval, S_dev, S_eval, 'NTAC+LFCC+DCT+MA+Ceps')\n",
    "S_dev=S_ATAC_d+S_LFCC_d+S_DCT_d+S_MA_d+S_Ceps_d; S_eval=S_ATAC_e+S_LFCC_e+S_DCT_e+S_MA_e+S_Ceps_e; p_result(ad__dev, ad_eval, cmky__dev, cmky_eval, S_dev, S_eval, 'ATAC+LFCC+DCT+MA+Ceps')"
   ]
  },
  {
   "cell_type": "code",
   "execution_count": null,
   "metadata": {
    "tags": []
   },
   "outputs": [],
   "source": [
    "S_dev=                          S_CQA_d+S_Ceps_d; S_eval=         S_LFCC_e+        S_CQA_e+S_Ceps_e; p_result(ad__dev, ad_eval, cmky__dev, cmky_eval, S_dev, S_eval, '              CQA+Ceps')\n",
    "S_dev= S_TAC_d+                 S_CQA_d+S_Ceps_d; S_eval= S_TAC_e+S_LFCC_e+        S_CQA_e+S_Ceps_e; p_result(ad__dev, ad_eval, cmky__dev, cmky_eval, S_dev, S_eval, ' TAC+         CQA+Ceps')\n",
    "S_dev=S_NTAC_d+                 S_CQA_d+S_Ceps_d; S_eval=S_NTAC_e+S_LFCC_e+        S_CQA_e+S_Ceps_e; p_result(ad__dev, ad_eval, cmky__dev, cmky_eval, S_dev, S_eval, 'NTAC+         CQA+Ceps')\n",
    "S_dev=S_ATAC_d+                 S_CQA_d+S_Ceps_d; S_eval=S_ATAC_e+S_LFCC_e+        S_CQA_e+S_Ceps_e; p_result(ad__dev, ad_eval, cmky__dev, cmky_eval, S_dev, S_eval, 'ATAC+         CQA+Ceps')\n",
    "S_dev=         S_LFCC_d+        S_CQA_d+S_Ceps_d; S_eval=         S_LFCC_e+        S_CQA_e+S_Ceps_e; p_result(ad__dev, ad_eval, cmky__dev, cmky_eval, S_dev, S_eval, '     LFCC+    CQA+Ceps')\n",
    "S_dev= S_TAC_d+S_LFCC_d+        S_CQA_d+S_Ceps_d; S_eval= S_TAC_e+S_LFCC_e+        S_CQA_e+S_Ceps_e; p_result(ad__dev, ad_eval, cmky__dev, cmky_eval, S_dev, S_eval, ' TAC+LFCC+    CQA+Ceps')\n",
    "S_dev=S_NTAC_d+S_LFCC_d+        S_CQA_d+S_Ceps_d; S_eval=S_NTAC_e+S_LFCC_e+        S_CQA_e+S_Ceps_e; p_result(ad__dev, ad_eval, cmky__dev, cmky_eval, S_dev, S_eval, 'NTAC+LFCC+    CQA+Ceps')\n",
    "S_dev=S_ATAC_d+S_LFCC_d+        S_CQA_d+S_Ceps_d; S_eval=S_ATAC_e+S_LFCC_e+        S_CQA_e+S_Ceps_e; p_result(ad__dev, ad_eval, cmky__dev, cmky_eval, S_dev, S_eval, 'ATAC+LFCC+    CQA+Ceps')\n",
    "S_dev=         S_LFCC_d+S_DCT_d+S_CQA_d+S_Ceps_d; S_eval=         S_LFCC_e+S_DCT_e+S_CQA_e+S_Ceps_e; p_result(ad__dev, ad_eval, cmky__dev, cmky_eval, S_dev, S_eval, '     LFCC+DCT+CQA+Ceps')\n",
    "S_dev= S_TAC_d+S_LFCC_d+S_DCT_d+S_CQA_d+S_Ceps_d; S_eval= S_TAC_e+S_LFCC_e+S_DCT_e+S_CQA_e+S_Ceps_e; p_result(ad__dev, ad_eval, cmky__dev, cmky_eval, S_dev, S_eval, ' TAC+LFCC+DCT+CQA+Ceps')\n",
    "S_dev=S_NTAC_d+S_LFCC_d+S_DCT_d+S_CQA_d+S_Ceps_d; S_eval=S_NTAC_e+S_LFCC_e+S_DCT_e+S_CQA_e+S_Ceps_e; p_result(ad__dev, ad_eval, cmky__dev, cmky_eval, S_dev, S_eval, 'NTAC+LFCC+DCT+CQA+Ceps')\n",
    "S_dev=S_ATAC_d+S_LFCC_d+S_DCT_d+S_CQA_d+S_Ceps_d; S_eval=S_ATAC_e+S_LFCC_e+S_DCT_e+S_CQA_e+S_Ceps_e; p_result(ad__dev, ad_eval, cmky__dev, cmky_eval, S_dev, S_eval, 'ATAC+LFCC+DCT+CQA+Ceps')"
   ]
  },
  {
   "cell_type": "markdown",
   "metadata": {},
   "source": [
    "---"
   ]
  },
  {
   "cell_type": "code",
   "execution_count": null,
   "metadata": {
    "scrolled": true,
    "tags": []
   },
   "outputs": [],
   "source": [
    "S_dev=         S_LFCC_d+        S_S1724_d; S_eval=         S_LFCC_e+        S_S1724_e; p_result(ad__dev, ad_eval, cmky__dev, cmky_eval, S_dev, S_eval, '     LFCC+    Spec1724')\n",
    "S_dev= S_TAC_d+S_LFCC_d+        S_S1724_d; S_eval= S_TAC_e+S_LFCC_e+        S_S1724_e; p_result(ad__dev, ad_eval, cmky__dev, cmky_eval, S_dev, S_eval, ' TAC+LFCC+    Spec1724')\n",
    "S_dev=S_NTAC_d+S_LFCC_d+        S_S1724_d; S_eval=S_NTAC_e+S_LFCC_e+        S_S1724_e; p_result(ad__dev, ad_eval, cmky__dev, cmky_eval, S_dev, S_eval, 'NTAC+LFCC+    Spec1724')\n",
    "S_dev=S_ATAC_d+S_LFCC_d+        S_S1724_d; S_eval=S_ATAC_e+S_LFCC_e+        S_S1724_e; p_result(ad__dev, ad_eval, cmky__dev, cmky_eval, S_dev, S_eval, 'ATAC+LFCC+    Spec1724')\n",
    "S_dev=S_MTAC_d+S_LFCC_d+        S_S1724_d; S_eval=S_MTAC_e+S_LFCC_e+        S_S1724_e; p_result(ad__dev, ad_eval, cmky__dev, cmky_eval, S_dev, S_eval, 'MTAC+LFCC+    Spec1724')\n",
    "S_dev=S_QTAC_d+S_LFCC_d+        S_S1724_d; S_eval=S_QTAC_e+S_LFCC_e+        S_S1724_e; p_result(ad__dev, ad_eval, cmky__dev, cmky_eval, S_dev, S_eval, 'QTAC+LFCC+    Spec1724')\n",
    "S_dev=         S_LFCC_d+S_DCT_d+S_S1724_d; S_eval=         S_LFCC_e+S_DCT_e+S_S1724_e; p_result(ad__dev, ad_eval, cmky__dev, cmky_eval, S_dev, S_eval, '     LFCC+DCT+Spec1724')\n",
    "S_dev= S_TAC_d+S_LFCC_d+S_DCT_d+S_S1724_d; S_eval= S_TAC_e+S_LFCC_e+S_DCT_e+S_S1724_e; p_result(ad__dev, ad_eval, cmky__dev, cmky_eval, S_dev, S_eval, ' TAC+LFCC+DCT+Spec1724')\n",
    "S_dev=S_NTAC_d+S_LFCC_d+S_DCT_d+S_S1724_d; S_eval=S_NTAC_e+S_LFCC_e+S_DCT_e+S_S1724_e; p_result(ad__dev, ad_eval, cmky__dev, cmky_eval, S_dev, S_eval, 'NTAC+LFCC+DCT+Spec1724')\n",
    "S_dev=S_ATAC_d+S_LFCC_d+S_DCT_d+S_S1724_d; S_eval=S_ATAC_e+S_LFCC_e+S_DCT_e+S_S1724_e; p_result(ad__dev, ad_eval, cmky__dev, cmky_eval, S_dev, S_eval, 'ATAC+LFCC+DCT+Spec1724')\n",
    "S_dev=S_MTAC_d+S_LFCC_d+S_DCT_d+S_S1724_d; S_eval=S_MTAC_e+S_LFCC_e+S_DCT_e+S_S1724_e; p_result(ad__dev, ad_eval, cmky__dev, cmky_eval, S_dev, S_eval, 'MTAC+LFCC+DCT+Spec1724')\n",
    "S_dev=S_QTAC_d+S_LFCC_d+S_DCT_d+S_S1724_d; S_eval=S_QTAC_e+S_LFCC_e+S_DCT_e+S_S1724_e; p_result(ad__dev, ad_eval, cmky__dev, cmky_eval, S_dev, S_eval, 'QTAC+LFCC+DCT+Spec1724')"
   ]
  },
  {
   "cell_type": "code",
   "execution_count": null,
   "metadata": {
    "scrolled": true,
    "tags": []
   },
   "outputs": [],
   "source": [
    "S_dev=         S_LFCC_d+        S_LS724_d; S_eval=         S_LFCC_e+        S_LS724_e; p_result(ad__dev, ad_eval, cmky__dev, cmky_eval, S_dev, S_eval, '     LFCC+    LSpec724')\n",
    "S_dev= S_TAC_d+S_LFCC_d+        S_LS724_d; S_eval= S_TAC_e+S_LFCC_e+        S_LS724_e; p_result(ad__dev, ad_eval, cmky__dev, cmky_eval, S_dev, S_eval, ' TAC+LFCC+    LSpec724')\n",
    "S_dev=S_NTAC_d+S_LFCC_d+        S_LS724_d; S_eval=S_NTAC_e+S_LFCC_e+        S_LS724_e; p_result(ad__dev, ad_eval, cmky__dev, cmky_eval, S_dev, S_eval, 'NTAC+LFCC+    LSpec724')\n",
    "S_dev=S_ATAC_d+S_LFCC_d+        S_LS724_d; S_eval=S_ATAC_e+S_LFCC_e+        S_LS724_e; p_result(ad__dev, ad_eval, cmky__dev, cmky_eval, S_dev, S_eval, 'ATAC+LFCC+    LSpec724')\n",
    "S_dev=S_MTAC_d+S_LFCC_d+        S_LS724_d; S_eval=S_MTAC_e+S_LFCC_e+        S_LS724_e; p_result(ad__dev, ad_eval, cmky__dev, cmky_eval, S_dev, S_eval, 'MTAC+LFCC+    LSpec724')\n",
    "S_dev=S_QTAC_d+S_LFCC_d+        S_LS724_d; S_eval=S_QTAC_e+S_LFCC_e+        S_LS724_e; p_result(ad__dev, ad_eval, cmky__dev, cmky_eval, S_dev, S_eval, 'QTAC+LFCC+    LSpec724')\n",
    "S_dev=         S_LFCC_d+S_DCT_d+S_LS724_d; S_eval=         S_LFCC_e+S_DCT_e+S_LS724_e; p_result(ad__dev, ad_eval, cmky__dev, cmky_eval, S_dev, S_eval, '     LFCC+DCT+LSpec724')\n",
    "S_dev= S_TAC_d+S_LFCC_d+S_DCT_d+S_LS724_d; S_eval= S_TAC_e+S_LFCC_e+S_DCT_e+S_LS724_e; p_result(ad__dev, ad_eval, cmky__dev, cmky_eval, S_dev, S_eval, ' TAC+LFCC+DCT+LSpec724')\n",
    "S_dev=S_NTAC_d+S_LFCC_d+S_DCT_d+S_LS724_d; S_eval=S_NTAC_e+S_LFCC_e+S_DCT_e+S_LS724_e; p_result(ad__dev, ad_eval, cmky__dev, cmky_eval, S_dev, S_eval, 'NTAC+LFCC+DCT+LSpec724')\n",
    "S_dev=S_ATAC_d+S_LFCC_d+S_DCT_d+S_LS724_d; S_eval=S_ATAC_e+S_LFCC_e+S_DCT_e+S_LS724_e; p_result(ad__dev, ad_eval, cmky__dev, cmky_eval, S_dev, S_eval, 'ATAC+LFCC+DCT+LSpec724')\n",
    "S_dev=S_MTAC_d+S_LFCC_d+S_DCT_d+S_LS724_d; S_eval=S_MTAC_e+S_LFCC_e+S_DCT_e+S_LS724_e; p_result(ad__dev, ad_eval, cmky__dev, cmky_eval, S_dev, S_eval, 'MTAC+LFCC+DCT+LSpec724')\n",
    "S_dev=S_QTAC_d+S_LFCC_d+S_DCT_d+S_LS724_d; S_eval=S_QTAC_e+S_LFCC_e+S_DCT_e+S_LS724_e; p_result(ad__dev, ad_eval, cmky__dev, cmky_eval, S_dev, S_eval, 'QTAC+LFCC+DCT+LSpec724')"
   ]
  },
  {
   "cell_type": "code",
   "execution_count": null,
   "metadata": {
    "scrolled": true,
    "tags": []
   },
   "outputs": [],
   "source": [
    "S_dev=         S_LFCC_d+        S_MA_d; S_eval=         S_LFCC_e+        S_MA_e; p_result(ad__dev, ad_eval, cmky__dev, cmky_eval, S_dev, S_eval, '     LFCC+    MA')\n",
    "S_dev= S_TAC_d+S_LFCC_d+        S_MA_d; S_eval= S_TAC_e+S_LFCC_e+        S_MA_e; p_result(ad__dev, ad_eval, cmky__dev, cmky_eval, S_dev, S_eval, ' TAC+LFCC+    MA')\n",
    "S_dev=S_NTAC_d+S_LFCC_d+        S_MA_d; S_eval=S_NTAC_e+S_LFCC_e+        S_MA_e; p_result(ad__dev, ad_eval, cmky__dev, cmky_eval, S_dev, S_eval, 'NTAC+LFCC+    MA')\n",
    "S_dev=S_ATAC_d+S_LFCC_d+        S_MA_d; S_eval=S_ATAC_e+S_LFCC_e+        S_MA_e; p_result(ad__dev, ad_eval, cmky__dev, cmky_eval, S_dev, S_eval, 'ATAC+LFCC+    MA')\n",
    "S_dev=S_MTAC_d+S_LFCC_d+        S_MA_d; S_eval=S_MTAC_e+S_LFCC_e+        S_MA_e; p_result(ad__dev, ad_eval, cmky__dev, cmky_eval, S_dev, S_eval, 'MTAC+LFCC+    MA')\n",
    "S_dev=S_QTAC_d+S_LFCC_d+        S_MA_d; S_eval=S_QTAC_e+S_LFCC_e+        S_MA_e; p_result(ad__dev, ad_eval, cmky__dev, cmky_eval, S_dev, S_eval, 'QTAC+LFCC+    MA')\n",
    "S_dev=         S_LFCC_d+S_DCT_d+S_MA_d; S_eval=         S_LFCC_e+S_DCT_e+S_MA_e; p_result(ad__dev, ad_eval, cmky__dev, cmky_eval, S_dev, S_eval, '     LFCC+DCT+MA')\n",
    "S_dev= S_TAC_d+S_LFCC_d+S_DCT_d+S_MA_d; S_eval= S_TAC_e+S_LFCC_e+S_DCT_e+S_MA_e; p_result(ad__dev, ad_eval, cmky__dev, cmky_eval, S_dev, S_eval, ' TAC+LFCC+DCT+MA')\n",
    "S_dev=S_NTAC_d+S_LFCC_d+S_DCT_d+S_MA_d; S_eval=S_NTAC_e+S_LFCC_e+S_DCT_e+S_MA_e; p_result(ad__dev, ad_eval, cmky__dev, cmky_eval, S_dev, S_eval, 'NTAC+LFCC+DCT+MA')\n",
    "S_dev=S_ATAC_d+S_LFCC_d+S_DCT_d+S_MA_d; S_eval=S_ATAC_e+S_LFCC_e+S_DCT_e+S_MA_e; p_result(ad__dev, ad_eval, cmky__dev, cmky_eval, S_dev, S_eval, 'ATAC+LFCC+DCT+MA')\n",
    "S_dev=S_MTAC_d+S_LFCC_d+S_DCT_d+S_MA_d; S_eval=S_MTAC_e+S_LFCC_e+S_DCT_e+S_MA_e; p_result(ad__dev, ad_eval, cmky__dev, cmky_eval, S_dev, S_eval, 'MTAC+LFCC+DCT+MA')\n",
    "S_dev=S_QTAC_d+S_LFCC_d+S_DCT_d+S_MA_d; S_eval=S_QTAC_e+S_LFCC_e+S_DCT_e+S_MA_e; p_result(ad__dev, ad_eval, cmky__dev, cmky_eval, S_dev, S_eval, 'QTAC+LFCC+DCT+MA')"
   ]
  },
  {
   "cell_type": "markdown",
   "metadata": {},
   "source": [
    "---"
   ]
  },
  {
   "cell_type": "code",
   "execution_count": null,
   "metadata": {},
   "outputs": [],
   "source": [
    "S_dev=                 S_MA_d; S_eval=                 S_MA_e; p_result(ad__dev, ad_eval, cmky__dev, cmky_eval, S_dev, S_eval, '         MA')\n",
    "S_dev= S_TAC_d+        S_MA_d; S_eval= S_TAC_e+        S_MA_e; p_result(ad__dev, ad_eval, cmky__dev, cmky_eval, S_dev, S_eval, ' TAC+    MA')\n",
    "S_dev=S_NTAC_d+        S_MA_d; S_eval=S_NTAC_e+        S_MA_e; p_result(ad__dev, ad_eval, cmky__dev, cmky_eval, S_dev, S_eval, 'NTAC+    MA')\n",
    "S_dev=S_ATAC_d+        S_MA_d; S_eval=S_ATAC_e+        S_MA_e; p_result(ad__dev, ad_eval, cmky__dev, cmky_eval, S_dev, S_eval, 'ATAC+    MA')\n",
    "S_dev=S_MTAC_d+        S_MA_d; S_eval=S_MTAC_e+        S_MA_e; p_result(ad__dev, ad_eval, cmky__dev, cmky_eval, S_dev, S_eval, 'MTAC+    MA')\n",
    "S_dev=S_QTAC_d+        S_MA_d; S_eval=S_QTAC_e+        S_MA_e; p_result(ad__dev, ad_eval, cmky__dev, cmky_eval, S_dev, S_eval, 'QTAC+    MA')\n",
    "S_dev=         S_DCT_d+S_MA_d; S_eval=         S_DCT_e+S_MA_e; p_result(ad__dev, ad_eval, cmky__dev, cmky_eval, S_dev, S_eval, '     DCT+MA')\n",
    "S_dev= S_TAC_d+S_DCT_d+S_MA_d; S_eval= S_TAC_e+S_DCT_e+S_MA_e; p_result(ad__dev, ad_eval, cmky__dev, cmky_eval, S_dev, S_eval, ' TAC+DCT+MA')\n",
    "S_dev=S_NTAC_d+S_DCT_d+S_MA_d; S_eval=S_NTAC_e+S_DCT_e+S_MA_e; p_result(ad__dev, ad_eval, cmky__dev, cmky_eval, S_dev, S_eval, 'NTAC+DCT+MA')\n",
    "S_dev=S_ATAC_d+S_DCT_d+S_MA_d; S_eval=S_ATAC_e+S_DCT_e+S_MA_e; p_result(ad__dev, ad_eval, cmky__dev, cmky_eval, S_dev, S_eval, 'ATAC+DCT+MA')\n",
    "S_dev=S_MTAC_d+S_DCT_d+S_MA_d; S_eval=S_MTAC_e+S_DCT_e+S_MA_e; p_result(ad__dev, ad_eval, cmky__dev, cmky_eval, S_dev, S_eval, 'MTAC+DCT+MA')\n",
    "S_dev=S_QTAC_d+S_DCT_d+S_MA_d; S_eval=S_QTAC_e+S_DCT_e+S_MA_e; p_result(ad__dev, ad_eval, cmky__dev, cmky_eval, S_dev, S_eval, 'QTAC+DCT+MA')"
   ]
  },
  {
   "cell_type": "code",
   "execution_count": null,
   "metadata": {},
   "outputs": [],
   "source": [
    "S_dev=                 S_MA_d                  ; S_eval=                 S_MA_e                  ; p_result(ad__dev, ad_eval, cmky__dev, cmky_eval, S_dev, S_eval, '         MA          ')\n",
    "S_dev=S_QTAC_d+        S_MA_d                  ; S_eval=S_QTAC_e+        S_MA_e                  ; p_result(ad__dev, ad_eval, cmky__dev, cmky_eval, S_dev, S_eval, 'QTAC+    MA          ')\n",
    "S_dev=S_QTAC_d+        S_MA_d+S_Ceps_d         ; S_eval=S_QTAC_e+        S_MA_e+S_Ceps_e         ; p_result(ad__dev, ad_eval, cmky__dev, cmky_eval, S_dev, S_eval, 'QTAC+    MA+Ceps     ')\n",
    "S_dev=S_QTAC_d+        S_MA_d+S_Ceps_d+S_LFCC_d; S_eval=S_QTAC_e+        S_MA_e+S_Ceps_e+S_LFCC_e; p_result(ad__dev, ad_eval, cmky__dev, cmky_eval, S_dev, S_eval, 'QTAC+    MA+Ceps+LFCC')\n",
    "S_dev=         S_DCT_d+S_MA_d                  ; S_eval=         S_DCT_e+S_MA_e                  ; p_result(ad__dev, ad_eval, cmky__dev, cmky_eval, S_dev, S_eval, '     DCT+MA          ')\n",
    "S_dev=S_QTAC_d+S_DCT_d+S_MA_d                  ; S_eval=S_QTAC_e+S_DCT_e+S_MA_e                  ; p_result(ad__dev, ad_eval, cmky__dev, cmky_eval, S_dev, S_eval, 'QTAC+DCT+MA          ')\n",
    "S_dev=S_QTAC_d+S_DCT_d+S_MA_d+S_Ceps_d         ; S_eval=S_QTAC_e+S_DCT_e+S_MA_e+S_Ceps_e         ; p_result(ad__dev, ad_eval, cmky__dev, cmky_eval, S_dev, S_eval, 'QTAC+DCT+MA+Ceps     ')\n",
    "S_dev=S_QTAC_d+S_DCT_d+S_MA_d+S_Ceps_d+S_LFCC_d; S_eval=S_QTAC_e+S_DCT_e+S_MA_e+S_Ceps_e+S_LFCC_e; p_result(ad__dev, ad_eval, cmky__dev, cmky_eval, S_dev, S_eval, 'QTAC+DCT+MA+Ceps+LFCC')"
   ]
  },
  {
   "cell_type": "code",
   "execution_count": null,
   "metadata": {},
   "outputs": [],
   "source": []
  }
 ],
 "metadata": {
  "kernelspec": {
   "display_name": "Python 3 (ipykernel)",
   "language": "python",
   "name": "python3"
  },
  "language_info": {
   "codemirror_mode": {
    "name": "ipython",
    "version": 3
   },
   "file_extension": ".py",
   "mimetype": "text/x-python",
   "name": "python",
   "nbconvert_exporter": "python",
   "pygments_lexer": "ipython3",
   "version": "3.12.9"
  }
 },
 "nbformat": 4,
 "nbformat_minor": 4
}
